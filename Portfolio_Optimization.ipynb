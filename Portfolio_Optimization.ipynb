{
  "nbformat": 4,
  "nbformat_minor": 0,
  "metadata": {
    "colab": {
      "provenance": [],
      "authorship_tag": "ABX9TyOYDmWguxYU/JVnxIdG3dmZ",
      "include_colab_link": true
    },
    "kernelspec": {
      "name": "python3",
      "display_name": "Python 3"
    },
    "language_info": {
      "name": "python"
    }
  },
  "cells": [
    {
      "cell_type": "markdown",
      "metadata": {
        "id": "view-in-github",
        "colab_type": "text"
      },
      "source": [
        "<a href=\"https://colab.research.google.com/github/Notenkraker02/INVICTI/blob/main/Portfolio_Optimization.ipynb\" target=\"_parent\"><img src=\"https://colab.research.google.com/assets/colab-badge.svg\" alt=\"Open In Colab\"/></a>"
      ]
    },
    {
      "cell_type": "markdown",
      "source": [
        "# Portfolio Optimization\n",
        "### Instructions:\n",
        "1. Run (▶) the sections \"Functions\" and \"Final Model\"\n",
        "2. Proceed to the instructions for \"Run Final Model\"\n"
      ],
      "metadata": {
        "id": "d_VnTOyWiR6D"
      }
    },
    {
      "cell_type": "markdown",
      "source": [
        "## Functions"
      ],
      "metadata": {
        "id": "0LRMFaRYXZGa"
      }
    },
    {
      "cell_type": "code",
      "execution_count": 1,
      "metadata": {
        "id": "_75lgyY-XNsm"
      },
      "outputs": [],
      "source": [
        "# Imports\n",
        "import importlib.util\n",
        "\n",
        "packages_to_install = ['numpy', 'pandas', 'datetime', 'yfinance', 'matplotlib', 'scipy', 'tabulate', 'IPython.utils', 'heapq']\n",
        "\n",
        "for package in packages_to_install:\n",
        "    if importlib.util.find_spec(package) is None:\n",
        "        print(f\"Installing {package}...\")\n",
        "        %pip install {package}\n",
        "\n",
        "import numpy as np\n",
        "import pandas as pd\n",
        "import datetime as dt\n",
        "import yfinance\n",
        "import matplotlib.pyplot as plt\n",
        "from scipy.optimize import minimize\n",
        "from tabulate import tabulate\n",
        "from IPython.utils import io\n",
        "import heapq\n",
        "\n",
        "\n",
        "#Standard Deviation\n",
        "def st_dev(weights, cov_matrix):\n",
        "    variance = np.dot(weights.transpose(), np.dot(cov_matrix, weights))\n",
        "    return np.sqrt(variance)\n",
        "\n",
        "#Expected Return given weights\n",
        "def exp_return(weights, returns):\n",
        "    return np.sum(returns.mean() * weights)\n",
        "\n",
        "#Sharpe Ratio\n",
        "def sharpe_ratio(weights, returns, cov_matrix, rf_rate):\n",
        "    return (exp_return(weights, returns) - rf_rate)/st_dev(weights, cov_matrix)\n",
        "\n",
        "def getPortfolio(weights, returns, cov_matrix, rf_rate):\n",
        "    return weights, exp_return(weights, returns), st_dev(weights, cov_matrix), sharpe_ratio(weights, returns, cov_matrix, rf_rate)\n",
        "\n",
        "# Generate portfolios with random weights\n",
        "def generate_random_portfolios(returns, covariance, num_portfolios, risk_free_rate, min_allocations, max_allocations):\n",
        "    num_assets = returns.shape[1]\n",
        "    portfolios = []\n",
        "\n",
        "    for _ in range(num_portfolios):\n",
        "        weights = np.random.dirichlet(np.ones(num_assets), size=1)[0]\n",
        "\n",
        "        # Ensure that specified assets have weights greater than or equal to the specified minimum allocations\n",
        "        # And have weights less than or equal to the specified maximum allocations\n",
        "        iteration = 0\n",
        "        while iteration < 100:\n",
        "            updated = False\n",
        "            sumFree = 0\n",
        "            difference = 0\n",
        "            temp_min_allocations = min_allocations.copy()\n",
        "            temp_max_allocations = max_allocations.copy()\n",
        "            for i in range(num_assets):\n",
        "                initialWeight = weights[i]\n",
        "                upper_bound = min(weights[i], max_allocations[i])\n",
        "                weights[i] = max(min_allocations[i], upper_bound)\n",
        "                difference += weights[i] - initialWeight\n",
        "                if (min_allocations[i] == 0 and max_allocations[i] == 1) or weights[i] == initialWeight:\n",
        "                    temp_min_allocations[i] = 0\n",
        "                    temp_max_allocations[i] = 1\n",
        "                    sumFree += weights[i]\n",
        "\n",
        "            if difference != 0:\n",
        "                updated = True\n",
        "                iteration += 1\n",
        "\n",
        "            if not updated:\n",
        "                break\n",
        "\n",
        "            for i in range(num_assets):\n",
        "                if temp_min_allocations[i] == 0 and temp_max_allocations[i] == 1:\n",
        "                    weights[i] *= (sumFree-difference)/sumFree\n",
        "\n",
        "        returns_portfolio = exp_return(weights, returns)\n",
        "        volatility_portfolio = st_dev(weights, covariance)\n",
        "        sharpe_ratio_portfolio = sharpe_ratio(weights, returns, covariance, risk_free_rate)\n",
        "        portfolios.append((weights, returns_portfolio, volatility_portfolio, sharpe_ratio_portfolio))\n",
        "\n",
        "    return portfolios\n",
        "\n",
        "# Plot the Efficient Frontier\n",
        "def plot_efficient_frontier(portfolios, max_sharpe_portfolio):\n",
        "    returns = [portfolio[1] for portfolio in portfolios]\n",
        "    volatilities = [portfolio[2] for portfolio in portfolios]\n",
        "    sharpe_ratios = [portfolio[3] for portfolio in portfolios]\n",
        "\n",
        "\n",
        "    # Customizing color mapping to reflect full range of Sharpe ratios\n",
        "    cmap = plt.get_cmap('viridis')\n",
        "    colors = [cmap(sharpe_ratio) for sharpe_ratio in sharpe_ratios]\n",
        "\n",
        "    plt.figure(figsize=(10, 6))\n",
        "    scatter = plt.scatter(volatilities, returns, c=sharpe_ratios, cmap=cmap, marker='o')\n",
        "    plt.scatter(max_sharpe_portfolio[2], max_sharpe_portfolio[1], color='red', marker='*', s=200, label='Max Sharpe Ratio Portfolio')\n",
        "    plt.xlabel('Volatility')\n",
        "    plt.ylabel('Return')\n",
        "    plt.title('Efficient Frontier')\n",
        "\n",
        "    # Create color bar\n",
        "    cbar = plt.colorbar(scatter, label='Sharpe Ratio')\n",
        "    cbar.set_label('Sharpe Ratio')\n",
        "\n",
        "    plt.legend()\n",
        "    plt.grid(True)\n",
        "    plt.show()\n",
        "\n",
        "def plot_portfolio(portfolio, tickers):\n",
        "    fig, ax = plt.subplots(1, 2, figsize=(16, 8))\n",
        "\n",
        "    weights, returns, volatility, sharpe_ratio = portfolio\n",
        "\n",
        "    # Plot pie chart for asset allocation with customized style\n",
        "    ax[0].pie(weights, labels=tickers, autopct='%1.2f%%', startangle=140)\n",
        "    ax[0].set_title('Optimal Portfolio Weights')\n",
        "\n",
        "    # Create a DataFrame for asset allocation\n",
        "    portfolio_df = pd.DataFrame({'Asset': tickers, 'Weight': weights})\n",
        "    portfolio_df['Weight'] = portfolio_df['Weight'].map('{:.2%}'.format)\n",
        "\n",
        "    # Print portfolio statistics\n",
        "    ax[1].text(0, 1, \"Portfolio Overview:\", fontsize=14, fontweight='bold', transform=ax[1].transAxes)\n",
        "    ax[1].text(0, 0.9, f\"Expected Annual Return: {returns:.2%}\", fontsize=12, transform=ax[1].transAxes)\n",
        "    ax[1].text(0, 0.8, f\"Volatility: {volatility:.2%}\", fontsize=12, transform=ax[1].transAxes)\n",
        "    ax[1].text(0, 0.7, f\"Sharpe Ratio: {sharpe_ratio:.2f}\", fontsize=12, transform=ax[1].transAxes)\n",
        "    ax[1].text(0, 0.6, \"Asset Allocation:\", fontsize=12, fontweight='bold', transform=ax[1].transAxes)\n",
        "    for i, (asset, weight) in enumerate(zip(tickers, weights)):\n",
        "        ax[1].text(0, 0.55 - 0.05 * i, f\"{asset}: {weight:.2%}\", fontsize=10, transform=ax[1].transAxes)\n",
        "    ax[1].axis('off')\n",
        "\n",
        "    plt.show()"
      ]
    },
    {
      "cell_type": "markdown",
      "source": [
        "## Final Model"
      ],
      "metadata": {
        "id": "XMiRXTLAY6Nt"
      }
    },
    {
      "cell_type": "code",
      "source": [
        "def optimalPortfolio(tickers, num_portfolios, startTime, endTime, risk_free_rate, min_allocations, max_allocations, n_average):\n",
        "   # Obtain Assets\n",
        "   assets = []\n",
        "   if endTime == 'max':\n",
        "      data = yfinance.download(tickers, period = endTime)['Close']\n",
        "      assets.append(data)\n",
        "   else:\n",
        "      for ticker in tickers:\n",
        "         data = yfinance.download(ticker, startTime, endTime)['Close']\n",
        "         assets.append(data)\n",
        "\n",
        "   assets = pd.concat(assets, axis = 1, keys = tickers)\n",
        "   assets = assets.fillna(method='ffill').fillna(method='bfill')\n",
        "   if \"CASH\" not in tickers:\n",
        "      assets[\"CASH\"] = 1\n",
        "      tickers.append(\"CASH\")\n",
        "\n",
        "   #Obtain Returns\n",
        "   returns = np.log(assets / assets.shift(1)) *252\n",
        "   returns = returns.dropna()\n",
        "   covariance = returns.cov()/252\n",
        "\n",
        "   #Obtain portfolios\n",
        "   portfolios = generate_random_portfolios(returns, covariance, num_portfolios, risk_free_rate, min_allocations, max_allocations)\n",
        "   best_portfolios = heapq.nlargest(n_average, portfolios, key=lambda x: x[3])\n",
        "\n",
        "   #Get the best portfolio\n",
        "   average_weights = average_weights = np.mean([portfolio[0] for portfolio in best_portfolios], axis=0)\n",
        "   max_sharpe_portfolio = getPortfolio(average_weights, returns, covariance, risk_free_rate)\n",
        "\n",
        "   return portfolios, max_sharpe_portfolio"
      ],
      "metadata": {
        "id": "ZfNYbgIMZADp"
      },
      "execution_count": 2,
      "outputs": []
    },
    {
      "cell_type": "markdown",
      "source": [
        "## Run Final Model\n",
        "### Instructions:\n",
        "0. Make sure the sections \"Functions\" and \"Final Model\" have been executed.\n",
        "1. In \"tickers\" add the tickers of the assets you want to consider. In case you add/remove tickers, make sure to also look at point 5 of these instructions.\n",
        "2. Adjust \"time_horizon\" to change how much data from the past the model considers. With INVICTI, we agree to all use a timeframe of ... days/months/years.\n",
        "3. Adjust \"num_portfolios\" for the number of portfolios the model generates (how many points there are in the graph). More points mean a more accurately weighted portfolio, but takes longer to run. 10,000 points should be enough and runs fairly quickly. But you can always consider more points.\n",
        "4. The risk-free rate is set as a default to 0.035 (3.5%) from the 9-Month German Bond Yield. If this changes over time, we can manually adjust it. (Also feel free to play around)\n",
        "5. The \"min_allocations\" and \"max_allocations\" allow you to set a minimum or maximum to what weight we can give to each asset. When you add/remove tickers, you also have to add/remove constraints for these tickers. There is one more column than tickers, because the final column is for CASH (so keep that in mind when adding tickers). The default settings are 0 for minimum and 1 for maximum, which means that the weights are unconstrained.\n",
        "5. 'n_average' can be used to make the final weight allocation a bit more balanced. Setting it higher than 1 will no longer give the most 'optimal' portfolio (very close to it though), but it lessens the likelihood of having an extremely large allocation to one asset or extremely small allocations for some others. In simple words, it creates a slightly more balanced portfolio\n",
        "6. Don't touch the rest of the code. 😀\n",
        "7. Click the run button (▶) when you're ready.\n",
        "8. Make some big bucks! 🤑"
      ],
      "metadata": {
        "id": "rygA8WsRZEu0"
      }
    },
    {
      "cell_type": "code",
      "source": [
        "## Hyperparameters --> Only Alter These!!\n",
        "tickers = [\"GOOG\", \"SPY5.L\", \"IEUR\", \"MELI\", \"ASML\", \"IAU\", \"PDD\"]\n",
        "time_horizon = 90\n",
        "num_portfolios = 100000\n",
        "risk_free_rate = 0.035\n",
        "min_allocations = [0,0,0,0,0,0,0,0]\n",
        "max_allocations = [1,1,1,1,1,1,1,1]\n",
        "n_average = 5\n",
        "\n",
        "# Interval Parameters\n",
        "if time_horizon != 'max':\n",
        "  endTime = dt.datetime.now()\n",
        "  startTime = endTime - dt.timedelta(days = time_horizon)\n",
        "else:\n",
        "  endTime = 'max'\n",
        "  startTime = None\n",
        "\n",
        "#Perform model\n",
        "with io.capture_output() as captured:\n",
        "    portfolios, max_sharpe_portfolio = optimalPortfolio(tickers, num_portfolios, startTime, endTime, risk_free_rate,\n",
        "                                                            min_allocations, max_allocations, n_average)\n",
        "\n",
        "# Plot efficient frontier and portfolio Statistics\n",
        "plot_efficient_frontier(portfolios, max_sharpe_portfolio)\n",
        "plot_portfolio(max_sharpe_portfolio, tickers)"
      ],
      "metadata": {
        "id": "5B_Oe5WwZIDj"
      },
      "execution_count": null,
      "outputs": []
    }
  ]
}